{
  "nbformat": 4,
  "nbformat_minor": 0,
  "metadata": {
    "colab": {
      "provenance": []
    },
    "kernelspec": {
      "name": "python3",
      "display_name": "Python 3"
    },
    "language_info": {
      "name": "python"
    }
  },
  "cells": [
    {
      "cell_type": "markdown",
      "source": [
        "Práctica de Analítica de Datos: Tipos y Operaciones Básicas\n",
        "\n",
        "Objetivo: Consolidar el conocimiento sobre los tipos de datos (numéricos, cadenas, booleanos), y aplicar operaciones aritméticas, relacionales y lógicas para resolver problemas de análisis de datos sencillos.\n",
        "\n",
        "Parte 1. Tipos de datos\n",
        "\n",
        "\tDefine tres variables:\n",
        "\t\t- Un número entero (int) con tu edad.\n",
        "\t\t- Un número decimal (float) con tu altura en metros.\n",
        "\t\t- Una cadena de texto (str) con tu nombre completo.\n",
        "\n",
        "\tPregunta: ¿qué función en Python permite conocer el tipo de dato de una variable? Úsala para mostrar los resultados.\n",
        "\n",
        "Parte 2. Operaciones aritméticas\n",
        "\n",
        "\tSupón que compras 3 productos con precios: 125.50, 89.99 y 39.75.\n",
        "\t\t- Calcula el total de la compra.\n",
        "\t\t- Aplica un descuento del 15%.\n",
        "\t\t- Calcula el IVA del 16% sobre el precio con descuento.\n",
        "\t\t- Obtén el total final a pagar.\n",
        "\n",
        "\t¿Qué operador usarías para obtener el residuo de dividir 125 entre 12?\n",
        "\t\tEscríbelo y ejecútalo en código.\n",
        "\n",
        "Parte 3. Operaciones relacionales\n",
        "\n",
        "\tCon los datos anteriores:\n",
        "\t\t- Verifica si tu edad es mayor a 18.\n",
        "\t\t- Comprueba si el precio más alto es mayor que 100.\n",
        "\t\t- Evalúa si el total final de la compra es menor o igual a 200.\n",
        "\n",
        "Parte 4. Operaciones lógicas\n",
        "\n",
        "\tCrea dos variables booleanas:\n",
        "\t\t- pago_tarjeta = True\n",
        "\t\t- tiene_descuento = False\n",
        "\t\t- Evalúa las siguientes expresiones:\n",
        "\t\t- ¿El cliente pagó con tarjeta y tiene descuento?\n",
        "\t\t- ¿El cliente pagó con tarjeta o tiene descuento?\n",
        "\t\t- Niega el valor de tiene_descuento.\n",
        "\n",
        "Parte 5. Integración\n",
        "\t\tRedacta un programa en Python que:\n",
        "    \t-\tSolicite al usuario:\n",
        "\t\t\t\t- Edad\n",
        "\t\t\t\t- Altura\n",
        "\t\t\t\t- Monto de una compra\n",
        "\t\tMuestre en pantalla:\n",
        "\t\t\t\t- El tipo de cada dato ingresado.\n",
        "\t\t\t\t- Si el usuario es mayor de edad.\n",
        "\t\t\t\t- Si la compra excede los $500.\n",
        "\t\t\t\t- Si el usuario es mayor de edad y su compra excede $500."
      ],
      "metadata": {
        "id": "g72PuibfFgyz"
      }
    },
    {
      "cell_type": "code",
      "execution_count": 5,
      "metadata": {
        "colab": {
          "base_uri": "https://localhost:8080/"
        },
        "id": "l9MZ2CjRFgDC",
        "outputId": "dff93587-63a8-47b0-f4ce-4aabfeca2f04"
      },
      "outputs": [
        {
          "output_type": "stream",
          "name": "stdout",
          "text": [
            "Edad 20 Años Tipo <class 'int'>\n",
            "Altura 1.8 Metros Tipo <class 'float'>\n",
            "Nombre Luis Tipo <class 'str'>\n"
          ]
        }
      ],
      "source": [
        "# definir variables\n",
        "edad = int(20)\n",
        "altura = float(1.80)\n",
        "nombre = str(\"Luis\")\n",
        "\n",
        "# mostrar valores y tipos\n",
        "print(\"Edad\", edad, \"Años\", \"Tipo\", type(edad))\n",
        "print(\"Altura\", altura, \"Metros\", \"Tipo\", type(altura))\n",
        "print(\"Nombre\", nombre, \"Tipo\", type(nombre))"
      ]
    },
    {
      "cell_type": "code",
      "source": [
        "#se pone los datos\n",
        "precio_1 = float(input(\"Ingrese el precio del producto 1: \"))\n",
        "precio_2 = float(input(\"Ingrese el precio del producto 2: \"))\n",
        "precio_3 = float(input(\"Ingrese el precio del producto 3: \"))\n",
        "#se hace el calculo y va impriendo el subtotal, descuento, iva y total a pagar\n",
        "subtotal_compra = precio_1 + precio_2 + precio_3\n",
        "print(\"El subtotal de la compra es: \", subtotal_compra)\n",
        "descuentp_compra = subtotal_compra * 0.15\n",
        "print(\"El descuento de la compra es: \", descuentp_compra)\n",
        "total_compra = subtotal_compra - descuentp_compra\n",
        "print(\"El total de la compra es: \", total_compra)\n",
        "iva_compra = total_compra * 0.16\n",
        "print(\"El iva de la compra es: \", iva_compra)\n",
        "total_pagar = total_compra + iva_compra\n",
        "print(\"El total a pagar es: \", total_pagar)"
      ],
      "metadata": {
        "id": "uc4vXPXEObEb"
      },
      "execution_count": null,
      "outputs": []
    },
    {
      "cell_type": "code",
      "source": [
        "# Se verifica si tiene 18 años\n",
        "edad = int(input(\"Ingrese su edad: \"))\n",
        "resultado = {\n",
        "    True: \"Usted es mayor de edad.\",\n",
        "    False: \"Usted es menor de edad.\"\n",
        "}\n",
        "print(resultado[edad >= 18])\n",
        "\n",
        "# Definir variables para los precios y el total\n",
        "precio_1 = float(input(\"Ingrese el precio del producto 1: \"))\n",
        "total_pagar = float(input(\"Ingrese el total a pagar: \"))\n",
        "\n",
        "# Comprueba si el precio más alto es mayor que 100\n",
        "if precio_1 > 100:\n",
        "    print(\"El precio del producto 1 es mayor a 100\")\n",
        "\n",
        "# Evalúa si el total final de la compra es menor o igual a 200\n",
        "if total_pagar <= 200:\n",
        "    print(\"El total final de la compra es menor o igual a 200\")\n"
      ],
      "metadata": {
        "id": "dUBw7YbROfjK",
        "colab": {
          "base_uri": "https://localhost:8080/"
        },
        "outputId": "30158f18-1780-440d-e55b-4f401fa3df5f"
      },
      "execution_count": 2,
      "outputs": [
        {
          "output_type": "stream",
          "name": "stdout",
          "text": [
            "Ingrese su edad: 19\n",
            "Usted es mayor de edad.\n",
            "Ingrese el precio del producto 1: 1222\n",
            "Ingrese el total a pagar: 1923\n",
            "El precio del producto 1 es mayor a 100\n"
          ]
        }
      ]
    },
    {
      "cell_type": "code",
      "source": [
        "# definir variables booleanas\n",
        "pago_tarjeta = True       #si pago con tarjeta\n",
        "tiene_descuento = False   #no tiene descuento\n",
        "\n",
        "# imprimir las respuestas\n",
        "print(\"¿Pagó con tarjeta y tiene descuento?\", pago_tarjeta and tiene_descuento)\n",
        "\n",
        "print(\"¿Pagó con tarjeta o tiene descuento?\", pago_tarjeta or tiene_descuento)\n",
        "\n",
        "print(\"¿No tiene descuento?\", not tiene_descuento)"
      ],
      "metadata": {
        "colab": {
          "base_uri": "https://localhost:8080/"
        },
        "id": "TJ1fvdwcIb_U",
        "outputId": "a41b60f1-8a38-467f-860a-ed754a3332aa"
      },
      "execution_count": 3,
      "outputs": [
        {
          "output_type": "stream",
          "name": "stdout",
          "text": [
            "¿Pagó con tarjeta y tiene descuento? False\n",
            "¿Pagó con tarjeta o tiene descuento? True\n",
            "¿No tiene descuento? True\n"
          ]
        }
      ]
    },
    {
      "cell_type": "code",
      "source": [
        "# pedir datos al usuario\n",
        "edad1 = int(input(\"¿Cuál es tu edad? \"))\n",
        "altura1 = float(input(\"¿Cuál es tu altura en metros? \"))\n",
        "monto1 = float(input(\"¿Cuál es el monto de tu compra? \"))\n",
        "\n",
        "# calcular condiciones\n",
        "edad_mayor = edad1 >= 18\n",
        "monto_excede = monto1 > 500\n",
        "\n",
        "# mostrar valores y tipos\n",
        "print(\"Edad:\", edad1, \"Tipo:\", type(edad1))\n",
        "print(\"Altura:\", altura1, \"Tipo:\", type(altura1))\n",
        "print(\"Monto:\", monto1, \"Tipo:\", type(monto1))\n",
        "\n",
        "# mostrar resultados booleanos\n",
        "print(\"¿Eres mayor de edad?:\", edad_mayor, \"Tipo:\", type(edad_mayor))\n",
        "print(\"¿El monto excede 500?:\", monto_excede, \"Tipo:\", type(monto_excede))"
      ],
      "metadata": {
        "colab": {
          "base_uri": "https://localhost:8080/"
        },
        "id": "NKaviH_rKOeU",
        "outputId": "83832516-5088-4649-84a9-4ba2ea6d2f9b"
      },
      "execution_count": 4,
      "outputs": [
        {
          "output_type": "stream",
          "name": "stdout",
          "text": [
            "¿Cuál es tu edad? 12\n",
            "¿Cuál es tu altura en metros? 3231\n",
            "¿Cuál es el monto de tu compra? 123\n",
            "Edad: 12 Tipo: <class 'int'>\n",
            "Altura: 3231.0 Tipo: <class 'float'>\n",
            "Monto: 123.0 Tipo: <class 'float'>\n",
            "¿Eres mayor de edad?: False Tipo: <class 'bool'>\n",
            "¿El monto excede 500?: False Tipo: <class 'bool'>\n"
          ]
        }
      ]
    },
    {
      "cell_type": "markdown",
      "source": [
        "Luis Roberto y Luis Efren"
      ],
      "metadata": {
        "id": "3NZAqLJazEDb"
      }
    }
  ]
}